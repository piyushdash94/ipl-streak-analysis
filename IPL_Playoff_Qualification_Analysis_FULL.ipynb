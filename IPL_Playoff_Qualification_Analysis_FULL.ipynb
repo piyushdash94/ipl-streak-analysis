{
 "cells": [
  {
   "cell_type": "markdown",
   "id": "2ffda0ff",
   "metadata": {},
   "source": [
    "# IPL Playoff Qualification Probability Analysis (Max 2 Consecutive Wins)\n",
    "## Introduction\n",
    "In the Indian Premier League (IPL), each team plays 14 matches in the league stage. Typically, **7 wins (14 points)** give a team a chance to qualify for the playoffs, but it's not guaranteed unless the **Net Run Rate (NRR)** is favorable. Teams with **8 wins (16 points)** are almost always safe.\n",
    "\n",
    "This notebook analyzes how likely it is for a team to qualify if they **never win more than 2 matches in a row**. We explore this using both:\n",
    "- **Combinatorics** (pure math, all outcomes equally likely)\n",
    "- **Simulations** (realistic win probabilities like 40%, 50%, and 60%)"
   ]
  },
  {
   "cell_type": "markdown",
   "id": "b194b4c9",
   "metadata": {},
   "source": [
    "## Imports and Setup"
   ]
  },
  {
   "cell_type": "code",
   "execution_count": 1,
   "id": "51402b4f",
   "metadata": {},
   "outputs": [],
   "source": [
    "import itertools\n",
    "import matplotlib.pyplot as plt\n",
    "import pandas as pd\n",
    "import random\n",
    "import plotly.graph_objects as go\n"
   ]
  },
  {
   "cell_type": "markdown",
   "id": "b0b373d6",
   "metadata": {},
   "source": [
    "## Parameters and Helper Functions"
   ]
  },
  {
   "cell_type": "code",
   "execution_count": 2,
   "id": "6bbb48ca",
   "metadata": {},
   "outputs": [],
   "source": [
    "TOTAL_MATCHES = 14\n",
    "QUALIFY_WIN_THRESHOLD = 7\n",
    "STRICT_QUALIFY_THRESHOLD = 8\n",
    "\n",
    "def is_valid_sequence(seq):\n",
    "    \"\"\"Return True if sequence has no more than 2 consecutive wins.\"\"\"\n",
    "    count = 0\n",
    "    for outcome in seq:\n",
    "        if outcome == 'W':\n",
    "            count += 1\n",
    "            if count > 2:\n",
    "                return False\n",
    "        else:\n",
    "            count = 0\n",
    "    return True\n",
    "\n",
    "def count_wins(seq):\n",
    "    return seq.count('W')"
   ]
  },
  {
   "cell_type": "markdown",
   "id": "0023eefe",
   "metadata": {},
   "source": [
    "## Section 1: Combinatorics (Math Model)"
   ]
  },
  {
   "cell_type": "code",
   "execution_count": 3,
   "id": "801ce6ae",
   "metadata": {},
   "outputs": [
    {
     "name": "stdout",
     "output_type": "stream",
     "text": [
      "Total sequences: 16384\n",
      "Valid sequences (no >2 consecutive wins): 5768\n",
      "Qualifying sequences (7+ wins): 1424\n",
      "Strict qualifying sequences (8+ wins): 408\n"
     ]
    }
   ],
   "source": [
    "all_sequences = list(itertools.product(['W', 'L'], repeat=TOTAL_MATCHES))\n",
    "valid_sequences = [seq for seq in all_sequences if is_valid_sequence(seq)]\n",
    "\n",
    "qualifying_7plus = [seq for seq in valid_sequences if count_wins(seq) >= QUALIFY_WIN_THRESHOLD]\n",
    "qualifying_8plus = [seq for seq in valid_sequences if count_wins(seq) >= STRICT_QUALIFY_THRESHOLD]\n",
    "\n",
    "print(f\"Total sequences: {len(all_sequences)}\")\n",
    "print(f\"Valid sequences (no >2 consecutive wins): {len(valid_sequences)}\")\n",
    "print(f\"Qualifying sequences (7+ wins): {len(qualifying_7plus)}\")\n",
    "print(f\"Strict qualifying sequences (8+ wins): {len(qualifying_8plus)}\")"
   ]
  },
  {
   "cell_type": "markdown",
   "id": "ca3fc9ee",
   "metadata": {},
   "source": [
    "### Win Distribution in Valid Sequences"
   ]
  },
  {
   "cell_type": "code",
   "execution_count": 4,
   "id": "d2c5c0fe",
   "metadata": {},
   "outputs": [
    {
     "data": {
      "image/png": "[encoded data removed]",
      "text/plain": [
       "<Figure size 1000x500 with 1 Axes>"
      ]
     },
     "metadata": {},
     "output_type": "display_data"
    }
   ],
   "source": [
    "win_distribution = {i: 0 for i in range(15)}\n",
    "for seq in valid_sequences:\n",
    "    win_distribution[count_wins(seq)] += 1\n",
    "\n",
    "win_df = pd.DataFrame(list(win_distribution.items()), columns=['Wins', 'Valid Sequence Count'])\n",
    "win_df['Percentage'] = (win_df['Valid Sequence Count'] / len(valid_sequences)) * 100\n",
    "\n",
    "plt.figure(figsize=(10, 5))\n",
    "plt.bar(win_df['Wins'], win_df['Percentage'])\n",
    "plt.xlabel('Number of Wins')\n",
    "plt.ylabel('Percentage of Valid Sequences (%)')\n",
    "plt.title('Win Distribution (Max 2 Wins in a Row)')\n",
    "plt.grid(True)\n",
    "plt.tight_layout()\n",
    "plt.show()"
   ]
  },
  {
   "cell_type": "markdown",
   "id": "2efbe9f0",
   "metadata": {},
   "source": [
    "## Section 2: Simulated Seasons"
   ]
  },
  {
   "cell_type": "code",
   "execution_count": 6,
   "id": "8796a7c2",
   "metadata": {},
   "outputs": [
    {
     "name": "stdout",
     "output_type": "stream",
     "text": [
      "Weak (40%): 7+ Wins = 17.13%, 8+ Wins = 4.43%\n",
      "Average (50%): 7+ Wins = 40.78%, 8+ Wins = 15.67%\n",
      "Strong (60%): 7+ Wins = 67.87%, 8+ Wins = 37.05%\n"
     ]
    }
   ],
   "source": [
    "def simulate_with_prob(p_win, num_simulations=100000):\n",
    "    qualifying_7, qualifying_8 = 0, 0\n",
    "    for _ in range(num_simulations):\n",
    "        seq = []\n",
    "        win_streak = 0\n",
    "        for _ in range(TOTAL_MATCHES):\n",
    "            if win_streak == 2:\n",
    "                seq.append('L')\n",
    "                win_streak = 0\n",
    "            else:\n",
    "                outcome = 'W' if random.random() < p_win else 'L'\n",
    "                seq.append(outcome)\n",
    "                win_streak = win_streak + 1 if outcome == 'W' else 0\n",
    "        wins = seq.count('W')\n",
    "        if wins >= QUALIFY_WIN_THRESHOLD:\n",
    "            qualifying_7 += 1\n",
    "        if wins >= STRICT_QUALIFY_THRESHOLD:\n",
    "            qualifying_8 += 1\n",
    "    return round(qualifying_7 / num_simulations * 100, 2), round(qualifying_8 / num_simulations * 100, 2)\n",
    "\n",
    "results = {}\n",
    "for label, p in zip(['Weak (40%)', 'Average (50%)', 'Strong (60%)'], [0.4, 0.5, 0.6]):\n",
    "    q7, q8 = simulate_with_prob(p)\n",
    "    results[label] = {'7+ Wins': q7, '8+ Wins': q8}\n",
    "    print(f\"{label}: 7+ Wins = {q7}%, 8+ Wins = {q8}%\")"
   ]
  },
  {
   "cell_type": "markdown",
   "id": "319c6353",
   "metadata": {},
   "source": [
    "## Section 3: Final Comparison: Math vs Simulation"
   ]
  },
  {
   "cell_type": "code",
   "execution_count": 7,
   "id": "6cc4303f",
   "metadata": {},
   "outputs": [
    {
     "data": {
      "application/vnd.plotly.v1+json": {
       "config": {
        "plotlyServerURL": "https://plot.ly"
       },
       "data": [
        {
         "marker": {
          "color": "#7eb6ff"
         },
         "name": "7 Wins Only (Math Model)",
         "type": "bar",
         "x": [
          "Weak (40%)",
          "Average (50%)",
          "Strong (60%)"
         ],
         "y": [
          6.199999999999999,
          6.199999999999999,
          6.199999999999999
         ]
        },
        {
         "marker": {
          "color": "#007acc"
         },
         "name": "8+ Wins (Math Model)",
         "type": "bar",
         "x": [
          "Weak (40%)",
          "Average (50%)",
          "Strong (60%)"
         ],
         "y": [
          2.49,
          2.49,
          2.49
         ]
        },
        {
         "marker": {
          "color": "#ffd78f"
         },
         "name": "7 Wins Only (Simulated)",
         "type": "bar",
         "x": [
          "Weak (40%)",
          "Average (50%)",
          "Strong (60%)"
         ],
         "y": [
          12.7,
          25.11,
          30.820000000000007
         ]
        },
        {
         "marker": {
          "color": "#ff8c00"
         },
         "name": "8+ Wins (Simulated)",
         "type": "bar",
         "x": [
          "Weak (40%)",
          "Average (50%)",
          "Strong (60%)"
         ],
         "y": [
          4.43,
          15.67,
          37.05
         ]
        }
       ],
       "layout": {
        "barmode": "group",
        "height": 600,
        "legend": {
         "title": {
          "text": "Scenario"
         }
        },
        "template": {
         "data": {
          "bar": [
           {
            "error_x": {
             "color": "#2a3f5f"
            },
            "error_y": {
             "color": "#2a3f5f"
            },
            "marker": {
             "line": {
              "color": "#E5ECF6",
              "width": 0.5
             },
             "pattern": {
              "fillmode": "overlay",
              "size": 10,
              "solidity": 0.2
             }
            },
            "type": "bar"
           }
          ],
          "barpolar": [
           {
            "marker": {
             "line": {
              "color": "#E5ECF6",
              "width": 0.5
             },
             "pattern": {
              "fillmode": "overlay",
              "size": 10,
              "solidity": 0.2
             }
            },
            "type": "barpolar"
           }
          ],
          "carpet": [
           {
            "aaxis": {
             "endlinecolor": "#2a3f5f",
             "gridcolor": "white",
             "linecolor": "white",
             "minorgridcolor": "white",
             "startlinecolor": "#2a3f5f"
            },
            "baxis": {
             "endlinecolor": "#2a3f5f",
             "gridcolor": "white",
             "linecolor": "white",
             "minorgridcolor": "white",
             "startlinecolor": "#2a3f5f"
            },
            "type": "carpet"
           }
          ],
          "choropleth": [
           {
            "colorbar": {
             "outlinewidth": 0,
             "ticks": ""
            },
            "type": "choropleth"
           }
          ],
          "contour": [
           {
            "colorbar": {
             "outlinewidth": 0,
             "ticks": ""
            },
            "colorscale": [
             [
              0,
              "#0d0887"
             ],
             [
              0.1111111111111111,
              "#46039f"
             ],
             [
              0.2222222222222222,
              "#7201a8"
             ],
             [
              0.3333333333333333,
              "#9c179e"
             ],
             [
              0.4444444444444444,
              "#bd3786"
             ],
             [
              0.5555555555555556,
              "#d8576b"
             ],
             [
              0.6666666666666666,
              "#ed7953"
             ],
             [
              0.7777777777777778,
              "#fb9f3a"
             ],
             [
              0.8888888888888888,
              "#fdca26"
             ],
             [
              1,
              "#f0f921"
             ]
            ],
            "type": "contour"
           }
          ],
          "contourcarpet": [
           {
            "colorbar": {
             "outlinewidth": 0,
             "ticks": ""
            },
            "type": "contourcarpet"
           }
          ],
          "heatmap": [
           {
            "colorbar": {
             "outlinewidth": 0,
             "ticks": ""
            },
            "colorscale": [
             [
              0,
              "#0d0887"
             ],
             [
              0.1111111111111111,
              "#46039f"
             ],
             [
              0.2222222222222222,
              "#7201a8"
             ],
             [
              0.3333333333333333,
              "#9c179e"
             ],
             [
              0.4444444444444444,
              "#bd3786"
             ],
             [
              0.5555555555555556,
              "#d8576b"
             ],
             [
              0.6666666666666666,
              "#ed7953"
             ],
             [
              0.7777777777777778,
              "#fb9f3a"
             ],
             [
              0.8888888888888888,
              "#fdca26"
             ],
             [
              1,
              "#f0f921"
             ]
            ],
            "type": "heatmap"
           }
          ],
          "histogram": [
           {
            "marker": {
             "pattern": {
              "fillmode": "overlay",
              "size": 10,
              "solidity": 0.2
             }
            },
            "type": "histogram"
           }
          ],
          "histogram2d": [
           {
            "colorbar": {
             "outlinewidth": 0,
             "ticks": ""
            },
            "colorscale": [
             [
              0,
              "#0d0887"
             ],
             [
              0.1111111111111111,
              "#46039f"
             ],
             [
              0.2222222222222222,
              "#7201a8"
             ],
             [
              0.3333333333333333,
              "#9c179e"
             ],
             [
              0.4444444444444444,
              "#bd3786"
             ],
             [
              0.5555555555555556,
              "#d8576b"
             ],
             [
              0.6666666666666666,
              "#ed7953"
             ],
             [
              0.7777777777777778,
              "#fb9f3a"
             ],
             [
              0.8888888888888888,
              "#fdca26"
             ],
             [
              1,
              "#f0f921"
             ]
            ],
            "type": "histogram2d"
           }
          ],
          "histogram2dcontour": [
           {
            "colorbar": {
             "outlinewidth": 0,
             "ticks": ""
            },
            "colorscale": [
             [
              0,
              "#0d0887"
             ],
             [
              0.1111111111111111,
              "#46039f"
             ],
             [
              0.2222222222222222,
              "#7201a8"
             ],
             [
              0.3333333333333333,
              "#9c179e"
             ],
             [
              0.4444444444444444,
              "#bd3786"
             ],
             [
              0.5555555555555556,
              "#d8576b"
             ],
             [
              0.6666666666666666,
              "#ed7953"
             ],
             [
              0.7777777777777778,
              "#fb9f3a"
             ],
             [
              0.8888888888888888,
              "#fdca26"
             ],
             [
              1,
              "#f0f921"
             ]
            ],
            "type": "histogram2dcontour"
           }
          ],
          "mesh3d": [
           {
            "colorbar": {
             "outlinewidth": 0,
             "ticks": ""
            },
            "type": "mesh3d"
           }
          ],
          "parcoords": [
           {
            "line": {
             "colorbar": {
              "outlinewidth": 0,
              "ticks": ""
             }
            },
            "type": "parcoords"
           }
          ],
          "pie": [
           {
            "automargin": true,
            "type": "pie"
           }
          ],
          "scatter": [
           {
            "fillpattern": {
             "fillmode": "overlay",
             "size": 10,
             "solidity": 0.2
            },
            "type": "scatter"
           }
          ],
          "scatter3d": [
           {
            "line": {
             "colorbar": {
              "outlinewidth": 0,
              "ticks": ""
             }
            },
            "marker": {
             "colorbar": {
              "outlinewidth": 0,
              "ticks": ""
             }
            },
            "type": "scatter3d"
           }
          ],
          "scattercarpet": [
           {
            "marker": {
             "colorbar": {
              "outlinewidth": 0,
              "ticks": ""
             }
            },
            "type": "scattercarpet"
           }
          ],
          "scattergeo": [
           {
            "marker": {
             "colorbar": {
              "outlinewidth": 0,
              "ticks": ""
             }
            },
            "type": "scattergeo"
           }
          ],
          "scattergl": [
           {
            "marker": {
             "colorbar": {
              "outlinewidth": 0,
              "ticks": ""
             }
            },
            "type": "scattergl"
           }
          ],
          "scattermap": [
           {
            "marker": {
             "colorbar": {
              "outlinewidth": 0,
              "ticks": ""
             }
            },
            "type": "scattermap"
           }
          ],
          "scattermapbox": [
           {
            "marker": {
             "colorbar": {
              "outlinewidth": 0,
              "ticks": ""
             }
            },
            "type": "scattermapbox"
           }
          ],
          "scatterpolar": [
           {
            "marker": {
             "colorbar": {
              "outlinewidth": 0,
              "ticks": ""
             }
            },
            "type": "scatterpolar"
           }
          ],
          "scatterpolargl": [
           {
            "marker": {
             "colorbar": {
              "outlinewidth": 0,
              "ticks": ""
             }
            },
            "type": "scatterpolargl"
           }
          ],
          "scatterternary": [
           {
            "marker": {
             "colorbar": {
              "outlinewidth": 0,
              "ticks": ""
             }
            },
            "type": "scatterternary"
           }
          ],
          "surface": [
           {
            "colorbar": {
             "outlinewidth": 0,
             "ticks": ""
            },
            "colorscale": [
             [
              0,
              "#0d0887"
             ],
             [
              0.1111111111111111,
              "#46039f"
             ],
             [
              0.2222222222222222,
              "#7201a8"
             ],
             [
              0.3333333333333333,
              "#9c179e"
             ],
             [
              0.4444444444444444,
              "#bd3786"
             ],
             [
              0.5555555555555556,
              "#d8576b"
             ],
             [
              0.6666666666666666,
              "#ed7953"
             ],
             [
              0.7777777777777778,
              "#fb9f3a"
             ],
             [
              0.8888888888888888,
              "#fdca26"
             ],
             [
              1,
              "#f0f921"
             ]
            ],
            "type": "surface"
           }
          ],
          "table": [
           {
            "cells": {
             "fill": {
              "color": "#EBF0F8"
             },
             "line": {
              "color": "white"
             }
            },
            "header": {
             "fill": {
              "color": "#C8D4E3"
             },
             "line": {
              "color": "white"
             }
            },
            "type": "table"
           }
          ]
         },
         "layout": {
          "annotationdefaults": {
           "arrowcolor": "#2a3f5f",
           "arrowhead": 0,
           "arrowwidth": 1
          },
          "autotypenumbers": "strict",
          "coloraxis": {
           "colorbar": {
            "outlinewidth": 0,
            "ticks": ""
           }
          },
          "colorscale": {
           "diverging": [
            [
             0,
             "#8e0152"
            ],
            [
             0.1,
             "#c51b7d"
            ],
            [
             0.2,
             "#de77ae"
            ],
            [
             0.3,
             "#f1b6da"
            ],
            [
             0.4,
             "#fde0ef"
            ],
            [
             0.5,
             "#f7f7f7"
            ],
            [
             0.6,
             "#e6f5d0"
            ],
            [
             0.7,
             "#b8e186"
            ],
            [
             0.8,
             "#7fbc41"
            ],
            [
             0.9,
             "#4d9221"
            ],
            [
             1,
             "#276419"
            ]
           ],
           "sequential": [
            [
             0,
             "#0d0887"
            ],
            [
             0.1111111111111111,
             "#46039f"
            ],
            [
             0.2222222222222222,
             "#7201a8"
            ],
            [
             0.3333333333333333,
             "#9c179e"
            ],
            [
             0.4444444444444444,
             "#bd3786"
            ],
            [
             0.5555555555555556,
             "#d8576b"
            ],
            [
             0.6666666666666666,
             "#ed7953"
            ],
            [
             0.7777777777777778,
             "#fb9f3a"
            ],
            [
             0.8888888888888888,
             "#fdca26"
            ],
            [
             1,
             "#f0f921"
            ]
           ],
           "sequentialminus": [
            [
             0,
             "#0d0887"
            ],
            [
             0.1111111111111111,
             "#46039f"
            ],
            [
             0.2222222222222222,
             "#7201a8"
            ],
            [
             0.3333333333333333,
             "#9c179e"
            ],
            [
             0.4444444444444444,
             "#bd3786"
            ],
            [
             0.5555555555555556,
             "#d8576b"
            ],
            [
             0.6666666666666666,
             "#ed7953"
            ],
            [
             0.7777777777777778,
             "#fb9f3a"
            ],
            [
             0.8888888888888888,
             "#fdca26"
            ],
            [
             1,
             "#f0f921"
            ]
           ]
          },
          "colorway": [
           "#636efa",
           "#EF553B",
           "#00cc96",
           "#ab63fa",
           "#FFA15A",
           "#19d3f3",
           "#FF6692",
           "#B6E880",
           "#FF97FF",
           "#FECB52"
          ],
          "font": {
           "color": "#2a3f5f"
          },
          "geo": {
           "bgcolor": "white",
           "lakecolor": "white",
           "landcolor": "#E5ECF6",
           "showlakes": true,
           "showland": true,
           "subunitcolor": "white"
          },
          "hoverlabel": {
           "align": "left"
          },
          "hovermode": "closest",
          "mapbox": {
           "style": "light"
          },
          "paper_bgcolor": "white",
          "plot_bgcolor": "#E5ECF6",
          "polar": {
           "angularaxis": {
            "gridcolor": "white",
            "linecolor": "white",
            "ticks": ""
           },
           "bgcolor": "#E5ECF6",
           "radialaxis": {
            "gridcolor": "white",
            "linecolor": "white",
            "ticks": ""
           }
          },
          "scene": {
           "xaxis": {
            "backgroundcolor": "#E5ECF6",
            "gridcolor": "white",
            "gridwidth": 2,
            "linecolor": "white",
            "showbackground": true,
            "ticks": "",
            "zerolinecolor": "white"
           },
           "yaxis": {
            "backgroundcolor": "#E5ECF6",
            "gridcolor": "white",
            "gridwidth": 2,
            "linecolor": "white",
            "showbackground": true,
            "ticks": "",
            "zerolinecolor": "white"
           },
           "zaxis": {
            "backgroundcolor": "#E5ECF6",
            "gridcolor": "white",
            "gridwidth": 2,
            "linecolor": "white",
            "showbackground": true,
            "ticks": "",
            "zerolinecolor": "white"
           }
          },
          "shapedefaults": {
           "line": {
            "color": "#2a3f5f"
           }
          },
          "ternary": {
           "aaxis": {
            "gridcolor": "white",
            "linecolor": "white",
            "ticks": ""
           },
           "baxis": {
            "gridcolor": "white",
            "linecolor": "white",
            "ticks": ""
           },
           "bgcolor": "#E5ECF6",
           "caxis": {
            "gridcolor": "white",
            "linecolor": "white",
            "ticks": ""
           }
          },
          "title": {
           "x": 0.05
          },
          "xaxis": {
           "automargin": true,
           "gridcolor": "white",
           "linecolor": "white",
           "ticks": "",
           "title": {
            "standoff": 15
           },
           "zerolinecolor": "white",
           "zerolinewidth": 2
          },
          "yaxis": {
           "automargin": true,
           "gridcolor": "white",
           "linecolor": "white",
           "ticks": "",
           "title": {
            "standoff": 15
           },
           "zerolinecolor": "white",
           "zerolinewidth": 2
          }
         }
        },
        "title": {
         "text": "Playoff Qualification: Math vs Simulated Outcomes"
        },
        "xaxis": {
         "title": {
          "text": "Team Strength"
         }
        },
        "yaxis": {
         "title": {
          "text": "Qualification Probability (%)"
         }
        }
       }
      }
     },
     "metadata": {},
     "output_type": "display_data"
    }
   ],
   "source": [
    "labels = list(results.keys())\n",
    "sim_7plus = [results[l]['7+ Wins'] for l in labels]\n",
    "sim_8plus = [results[l]['8+ Wins'] for l in labels]\n",
    "comb_7plus = [8.69]*3\n",
    "comb_8plus = [2.49]*3\n",
    "sim_7only = [sim_7plus[i] - sim_8plus[i] for i in range(3)]\n",
    "comb_7only = [comb_7plus[i] - comb_8plus[i] for i in range(3)]\n",
    "\n",
    "fig = go.Figure()\n",
    "fig.add_trace(go.Bar(x=labels, y=comb_7only, name='7 Wins Only (Math Model)', marker_color='#7eb6ff'))\n",
    "fig.add_trace(go.Bar(x=labels, y=comb_8plus, name='8+ Wins (Math Model)', marker_color='#007acc'))\n",
    "fig.add_trace(go.Bar(x=labels, y=sim_7only, name='7 Wins Only (Simulated)', marker_color='#ffd78f'))\n",
    "fig.add_trace(go.Bar(x=labels, y=sim_8plus, name='8+ Wins (Simulated)', marker_color='#ff8c00'))\n",
    "fig.update_layout(\n",
    "    barmode='group',\n",
    "    title='Playoff Qualification: Math vs Simulated Outcomes',\n",
    "    xaxis_title='Team Strength',\n",
    "    yaxis_title='Qualification Probability (%)',\n",
    "    legend_title='Scenario',\n",
    "    height=600\n",
    ")\n",
    "fig.show()"
   ]
  }
 ],
 "metadata": {
  "kernelspec": {
   "display_name": "Python 3",
   "language": "python",
   "name": "python3"
  },
  "language_info": {
   "codemirror_mode": {
    "name": "ipython",
    "version": 3
   },
   "file_extension": ".py",
   "mimetype": "text/x-python",
   "name": "python",
   "nbconvert_exporter": "python",
   "pygments_lexer": "ipython3",
   "version": "3.9.6"
  }
 },
 "nbformat": 4,
 "nbformat_minor": 5
}
